{
 "cells": [
  {
   "cell_type": "code",
   "execution_count": 1,
   "metadata": {},
   "outputs": [
    {
     "name": "stdout",
     "output_type": "stream",
     "text": [
      "Gajraj\n"
     ]
    }
   ],
   "source": [
    "print('Gajraj')"
   ]
  },
  {
   "cell_type": "code",
   "execution_count": 2,
   "metadata": {},
   "outputs": [
    {
     "name": "stdout",
     "output_type": "stream",
     "text": [
      "Requirement already satisfied: duckdb==0.6.1 in /usr/local/python/3.10.4/lib/python3.10/site-packages (from -r requirements.txt (line 1)) (0.6.1)\n",
      "Requirement already satisfied: pandas==1.5.2 in /home/codespace/.local/lib/python3.10/site-packages (from -r requirements.txt (line 2)) (1.5.2)\n",
      "Requirement already satisfied: seaborn==0.12.1 in /home/codespace/.local/lib/python3.10/site-packages (from -r requirements.txt (line 3)) (0.12.1)\n",
      "Requirement already satisfied: matplotlib==3.6.2 in /home/codespace/.local/lib/python3.10/site-packages (from -r requirements.txt (line 4)) (3.6.2)\n",
      "Requirement already satisfied: numpy>=1.14 in /home/codespace/.local/lib/python3.10/site-packages (from duckdb==0.6.1->-r requirements.txt (line 1)) (1.24.0)\n",
      "Requirement already satisfied: python-dateutil>=2.8.1 in /home/codespace/.local/lib/python3.10/site-packages (from pandas==1.5.2->-r requirements.txt (line 2)) (2.8.2)\n",
      "Requirement already satisfied: pytz>=2020.1 in /home/codespace/.local/lib/python3.10/site-packages (from pandas==1.5.2->-r requirements.txt (line 2)) (2022.7)\n",
      "Requirement already satisfied: contourpy>=1.0.1 in /home/codespace/.local/lib/python3.10/site-packages (from matplotlib==3.6.2->-r requirements.txt (line 4)) (1.0.6)\n",
      "Requirement already satisfied: cycler>=0.10 in /home/codespace/.local/lib/python3.10/site-packages (from matplotlib==3.6.2->-r requirements.txt (line 4)) (0.11.0)\n",
      "Requirement already satisfied: fonttools>=4.22.0 in /home/codespace/.local/lib/python3.10/site-packages (from matplotlib==3.6.2->-r requirements.txt (line 4)) (4.38.0)\n",
      "Requirement already satisfied: packaging>=20.0 in /home/codespace/.local/lib/python3.10/site-packages (from matplotlib==3.6.2->-r requirements.txt (line 4)) (22.0)\n",
      "Requirement already satisfied: pyparsing>=2.2.1 in /home/codespace/.local/lib/python3.10/site-packages (from matplotlib==3.6.2->-r requirements.txt (line 4)) (3.0.9)\n",
      "Requirement already satisfied: pillow>=6.2.0 in /home/codespace/.local/lib/python3.10/site-packages (from matplotlib==3.6.2->-r requirements.txt (line 4)) (9.3.0)\n",
      "Requirement already satisfied: kiwisolver>=1.0.1 in /home/codespace/.local/lib/python3.10/site-packages (from matplotlib==3.6.2->-r requirements.txt (line 4)) (1.4.4)\n",
      "Requirement already satisfied: six>=1.5 in /home/codespace/.local/lib/python3.10/site-packages (from python-dateutil>=2.8.1->pandas==1.5.2->-r requirements.txt (line 2)) (1.16.0)\n"
     ]
    }
   ],
   "source": [
    "#!python -m pip install kaggle\n",
    "#!kaggle --help\n",
    "#!mkdir -p /home/codespace/.kaggle\n",
    "#!touch /home/codespace/.kaggle/kaggle.json\n",
    "#!echo '{\"username\":\"rajivmehtajs\",\"key\":\"0d561f525c36d33a36621462b1a31e52\"}' > /home/codespace/.kaggle/kaggle.json\n",
    "#!chmod 600 /home/codespace/.kaggle/kaggle.json\n",
    "#!kaggle datasets download -d knightbearr/sales-product-data && unzip sales-product-data.zip\n",
    "#!mkdir dataset && mv *.csv ./dataset\n",
    "!pip install -r requirements.txt"
   ]
  },
  {
   "cell_type": "code",
   "execution_count": 2,
   "metadata": {},
   "outputs": [],
   "source": [
    "import pandas as pd\n",
    "import glob\n",
    "import time \n",
    "import duckdb "
   ]
  },
  {
   "cell_type": "code",
   "execution_count": 8,
   "metadata": {},
   "outputs": [],
   "source": [
    "conn = duckdb.connect()\n"
   ]
  },
  {
   "cell_type": "code",
   "execution_count": 9,
   "metadata": {},
   "outputs": [
    {
     "ename": "TypeError",
     "evalue": "glob() got an unexpected keyword argument 'header'",
     "output_type": "error",
     "traceback": [
      "\u001b[0;31m---------------------------------------------------------------------------\u001b[0m",
      "\u001b[0;31mTypeError\u001b[0m                                 Traceback (most recent call last)",
      "Cell \u001b[0;32mIn[9], line 2\u001b[0m\n\u001b[1;32m      1\u001b[0m cur_time \u001b[39m=\u001b[39m time\u001b[39m.\u001b[39mtime()\n\u001b[0;32m----> 2\u001b[0m df \u001b[39m=\u001b[39m pd\u001b[39m.\u001b[39mconcat([pd\u001b[39m.\u001b[39mread_csv(f) \u001b[39mfor\u001b[39;00m f \u001b[39min\u001b[39;00m glob\u001b[39m.\u001b[39;49mglob(\u001b[39m'\u001b[39;49m\u001b[39mdataset/*.csv\u001b[39;49m\u001b[39m'\u001b[39;49m, header\u001b[39m=\u001b[39;49m\u001b[39mTrue\u001b[39;49;00m)])\n\u001b[1;32m      3\u001b[0m \u001b[39mprint\u001b[39m(\u001b[39mf\u001b[39m\u001b[39m\"\u001b[39m\u001b[39mtime: \u001b[39m\u001b[39m{\u001b[39;00m(time\u001b[39m.\u001b[39mtime() \u001b[39m-\u001b[39m cur_time)\u001b[39m}\u001b[39;00m\u001b[39m\"\u001b[39m)\n\u001b[1;32m      4\u001b[0m \u001b[39mprint\u001b[39m(df\u001b[39m.\u001b[39mhead(\u001b[39m10\u001b[39m))\n",
      "\u001b[0;31mTypeError\u001b[0m: glob() got an unexpected keyword argument 'header'"
     ]
    }
   ],
   "source": [
    "cur_time = time.time()\n",
    "df = pd.concat([pd.read_csv(f) for f in glob.glob('dataset/*.csv', header=True)])\n",
    "print(f\"time: {(time.time() - cur_time)}\")\n",
    "print(df.head(10))f"
   ]
  },
  {
   "cell_type": "code",
   "execution_count": 9,
   "metadata": {},
   "outputs": [
    {
     "name": "stdout",
     "output_type": "stream",
     "text": [
      "    column0                     column1           column2     column3  \\\n",
      "0  Order ID                     Product  Quantity Ordered  Price Each   \n",
      "1    176558        USB-C Charging Cable                 2       11.95   \n",
      "2       NaN                         NaN               NaN         NaN   \n",
      "3    176559  Bose SoundSport Headphones                 1       99.99   \n",
      "4    176560                Google Phone                 1         600   \n",
      "5    176560            Wired Headphones                 1       11.99   \n",
      "6    176561            Wired Headphones                 1       11.99   \n",
      "7    176562        USB-C Charging Cable                 1       11.95   \n",
      "8    176563  Bose SoundSport Headphones                 1       99.99   \n",
      "9    176564        USB-C Charging Cable                 1       11.95   \n",
      "\n",
      "          column4                                 column5  \n",
      "0      Order Date                        Purchase Address  \n",
      "1  04/19/19 08:46            917 1st St, Dallas, TX 75001  \n",
      "2             NaN                                     NaN  \n",
      "3  04/07/19 22:30       682 Chestnut St, Boston, MA 02215  \n",
      "4  04/12/19 14:38    669 Spruce St, Los Angeles, CA 90001  \n",
      "5  04/12/19 14:38    669 Spruce St, Los Angeles, CA 90001  \n",
      "6  04/30/19 09:27       333 8th St, Los Angeles, CA 90001  \n",
      "7  04/29/19 13:03  381 Wilson St, San Francisco, CA 94016  \n",
      "8  04/02/19 07:46        668 Center St, Seattle, WA 98101  \n",
      "9  04/12/19 10:58         790 Ridge St, Atlanta, GA 30301  \n"
     ]
    }
   ],
   "source": [
    "cur_time = time.time()\n",
    "df = conn.execute(\"\"\"\n",
    "\tSELECT *\n",
    "\tFROM 'dataset/*.csv'\n",
    "\tLIMIT 10\n",
    "\"\"\").df()\n",
    "print(df)\n"
   ]
  },
  {
   "cell_type": "code",
   "execution_count": null,
   "metadata": {},
   "outputs": [],
   "source": []
  },
  {
   "cell_type": "code",
   "execution_count": null,
   "metadata": {},
   "outputs": [],
   "source": []
  },
  {
   "cell_type": "code",
   "execution_count": null,
   "metadata": {},
   "outputs": [],
   "source": []
  },
  {
   "cell_type": "code",
   "execution_count": null,
   "metadata": {},
   "outputs": [],
   "source": []
  },
  {
   "cell_type": "code",
   "execution_count": null,
   "metadata": {},
   "outputs": [],
   "source": []
  }
 ],
 "metadata": {
  "kernelspec": {
   "display_name": "Python 3",
   "language": "python",
   "name": "python3"
  },
  "language_info": {
   "codemirror_mode": {
    "name": "ipython",
    "version": 3
   },
   "file_extension": ".py",
   "mimetype": "text/x-python",
   "name": "python",
   "nbconvert_exporter": "python",
   "pygments_lexer": "ipython3",
   "version": "3.10.4 (main, Dec 19 2022, 20:24:16) [GCC 9.4.0]"
  },
  "orig_nbformat": 4,
  "vscode": {
   "interpreter": {
    "hash": "3ad933181bd8a04b432d3370b9dc3b0662ad032c4dfaa4e4f1596c548f763858"
   }
  }
 },
 "nbformat": 4,
 "nbformat_minor": 2
}
